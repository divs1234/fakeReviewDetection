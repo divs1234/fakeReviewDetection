{
  "nbformat": 4,
  "nbformat_minor": 0,
  "metadata": {
    "colab": {
      "name": "Copy of Copy of Untitled1.ipynb",
      "provenance": [],
      "collapsed_sections": [],
      "include_colab_link": true
    },
    "kernelspec": {
      "name": "python3",
      "display_name": "Python 3"
    }
  },
  "cells": [
    {
      "cell_type": "markdown",
      "metadata": {
        "id": "view-in-github",
        "colab_type": "text"
      },
      "source": [
        "<a href=\"https://colab.research.google.com/github/divs1234/fakeReviewDetection/blob/master/main.ipynb\" target=\"_parent\"><img src=\"https://colab.research.google.com/assets/colab-badge.svg\" alt=\"Open In Colab\"/></a>"
      ]
    },
    {
      "cell_type": "code",
      "metadata": {
        "id": "R6fnGz4kjgVR",
        "colab_type": "code",
        "colab": {}
      },
      "source": [
        "import os\n",
        "\n",
        "import pandas as pd\n",
        "from sklearn import metrics\n",
        "from sklearn.metrics import precision_score\n",
        "from sklearn.metrics import recall_score\n",
        "from sklearn.metrics import f1_score\n",
        "from sklearn.model_selection import train_test_split\n",
        "from sklearn.feature_extraction.text import CountVectorizer\n",
        "from sklearn.naive_bayes import MultinomialNB\n",
        "import numpy as np\n"
      ],
      "execution_count": 0,
      "outputs": []
    },
    {
      "cell_type": "code",
      "metadata": {
        "colab_type": "code",
        "id": "paf2evV5cSa6",
        "outputId": "c3ed6487-b30a-4de3-a526-0cdcf740cc0a",
        "colab": {
          "base_uri": "https://localhost:8080/",
          "height": 121
        }
      },
      "source": [
        "from google.colab import drive\n",
        "drive.mount('/content/drive')"
      ],
      "execution_count": 0,
      "outputs": [
        {
          "output_type": "stream",
          "text": [
            "Go to this URL in a browser: https://accounts.google.com/o/oauth2/auth?client_id=947318989803-6bn6qk8qdgf4n4g3pfee6491hc0brc4i.apps.googleusercontent.com&redirect_uri=urn%3aietf%3awg%3aoauth%3a2.0%3aoob&response_type=code&scope=email%20https%3a%2f%2fwww.googleapis.com%2fauth%2fdocs.test%20https%3a%2f%2fwww.googleapis.com%2fauth%2fdrive%20https%3a%2f%2fwww.googleapis.com%2fauth%2fdrive.photos.readonly%20https%3a%2f%2fwww.googleapis.com%2fauth%2fpeopleapi.readonly\n",
            "\n",
            "Enter your authorization code:\n",
            "··········\n",
            "Mounted at /content/drive\n"
          ],
          "name": "stdout"
        }
      ]
    },
    {
      "cell_type": "code",
      "metadata": {
        "id": "lNxtVPUJfwGz",
        "colab_type": "code",
        "outputId": "0a36932d-e080-4f83-a176-e1a4ab2cedbd",
        "colab": {
          "base_uri": "https://localhost:8080/",
          "height": 34
        }
      },
      "source": [
        "neg_deceptive_folder_path = 'drive/My Drive/op_spam_v1.4/negative_polarity/deceptive_from_MTurk/'\n",
        "neg_true_folder_path = 'drive/My Drive/op_spam_v1.4/negative_polarity/truthful_from_Web/'\n",
        "pos_deceptive_folder_path = 'drive/My Drive/op_spam_v1.4/positive_polarity/deceptive_from_MTurk/'\n",
        "pos_true_folder_path = 'drive/My Drive/op_spam_v1.4/positive_polarity/truthful_from_TripAdvisor/'\n",
        "print(neg_deceptive_folder_path)"
      ],
      "execution_count": 0,
      "outputs": [
        {
          "output_type": "stream",
          "text": [
            "drive/My Drive/op_spam_v1.4/negative_polarity/deceptive_from_MTurk/\n"
          ],
          "name": "stdout"
        }
      ]
    },
    {
      "cell_type": "code",
      "metadata": {
        "id": "ZXHbKmM-cZac",
        "colab_type": "code",
        "colab": {}
      },
      "source": [
        "polarity_class = []\n",
        "reviews = []\n",
        "spamity_class =[]\n",
        "for i in range(1,6):\n",
        "    insideptru = pos_true_folder_path + 'fold' + str(i) \n",
        "    insidepdec = pos_deceptive_folder_path + 'fold' + str(i)\n",
        "    insidentru = neg_true_folder_path + 'fold' + str(i) \n",
        "    insidendec = neg_deceptive_folder_path + 'fold' + str(i) \n",
        "    pos_list = []\n",
        "    for data_file in sorted(os.listdir(insidendec)):\n",
        "        polarity_class.append('negative')\n",
        "        spamity_class.append(str(data_file.split('_')[0]))\n",
        "        with open(os.path.join(insidendec, data_file)) as f:\n",
        "                contents = f.read()\n",
        "                reviews.append(contents)\n",
        "    for data_file in sorted(os.listdir(insidentru)):\n",
        "        polarity_class.append('negative')\n",
        "        spamity_class.append(str(data_file.split('_')[0]))\n",
        "        with open(os.path.join(insidentru, data_file)) as f:\n",
        "                contents = f.read()\n",
        "                reviews.append(contents)\n",
        "    for data_file in sorted(os.listdir(insidepdec)):\n",
        "        polarity_class.append('positive')\n",
        "        spamity_class.append(str(data_file.split('_')[0]))\n",
        "        with open(os.path.join(insidepdec, data_file)) as f:\n",
        "                contents = f.read()\n",
        "                reviews.append(contents)\n",
        "    for data_file in sorted(os.listdir(insideptru)):\n",
        "        polarity_class.append('positive')\n",
        "        spamity_class.append(str(data_file.split('_')[0]))\n",
        "        with open(os.path.join(insideptru, data_file)) as f:\n",
        "                contents = f.read()\n",
        "                reviews.append(contents)\n",
        "# print(reviews)"
      ],
      "execution_count": 0,
      "outputs": []
    },
    {
      "cell_type": "code",
      "metadata": {
        "id": "D-bbpJAWofDl",
        "colab_type": "code",
        "outputId": "9826ba3c-ae94-4897-9767-69d60b5a43a6",
        "colab": {
          "base_uri": "https://localhost:8080/",
          "height": 252
        }
      },
      "source": [
        "data_fm = pd.DataFrame({'polarity_class':polarity_class,'review':reviews,'spamity_class':spamity_class})\n",
        "\n",
        "data_fm.loc[data_fm['spamity_class']=='d','spamity_class']=0\n",
        "data_fm.loc[data_fm['spamity_class']=='t','spamity_class']=1\n",
        "print(data_fm)"
      ],
      "execution_count": 0,
      "outputs": [
        {
          "output_type": "stream",
          "text": [
            "     polarity_class  ... spamity_class\n",
            "0          negative  ...             0\n",
            "1          negative  ...             0\n",
            "2          negative  ...             0\n",
            "3          negative  ...             0\n",
            "4          negative  ...             0\n",
            "...             ...  ...           ...\n",
            "1595       positive  ...             1\n",
            "1596       positive  ...             1\n",
            "1597       positive  ...             1\n",
            "1598       positive  ...             1\n",
            "1599       positive  ...             1\n",
            "\n",
            "[1600 rows x 3 columns]\n"
          ],
          "name": "stdout"
        }
      ]
    },
    {
      "cell_type": "code",
      "metadata": {
        "id": "7GsrlwsrdDqU",
        "colab_type": "code",
        "outputId": "a7b797b9-95d0-438e-fa83-137a63d37bee",
        "colab": {
          "base_uri": "https://localhost:8080/",
          "height": 235
        }
      },
      "source": [
        "data_x = data_fm['review']\n",
        "\n",
        "data_y = np.asarray(data_fm['spamity_class'],dtype=int)\n",
        "\n",
        "X_train, X_test, y_train, y_test = train_test_split(data_x, data_y, test_size=0.2)\n",
        "print(X_train)\n",
        "print(y_train)"
      ],
      "execution_count": 0,
      "outputs": [
        {
          "output_type": "stream",
          "text": [
            "1157    The entrance and room was spacious and modern,...\n",
            "703     I had never been to Chicago and was looking fo...\n",
            "144     I was surprised by the fact that there were no...\n",
            "678     The Fairmont Chicago Millennium Park Hotel was...\n",
            "313     I arrived at the Sofitel for a joint leisure a...\n",
            "                              ...                        \n",
            "1304    The Amalfi Hotel in Chicago advertises itself ...\n",
            "265     We needed an extra night in Chicago after a gr...\n",
            "1310    The service was only subpar and then rooms nee...\n",
            "1479    The Amalfi Hotel Chicago is perfect for a roma...\n",
            "1096    My wife and I stayed here for a weekend in Chi...\n",
            "Name: review, Length: 1280, dtype: object\n",
            "[0 0 1 ... 0 0 1]\n"
          ],
          "name": "stdout"
        }
      ]
    },
    {
      "cell_type": "code",
      "metadata": {
        "colab_type": "code",
        "id": "W7sEWqd3onzV",
        "outputId": "78b4ff6f-a2de-43b6-c3fd-f39a8aa731e3",
        "colab": {
          "base_uri": "https://localhost:8080/",
          "height": 874
        }
      },
      "source": [
        "cv1 =  CountVectorizer(max_df=0.50,min_df=0.01,stop_words=[\"all\",\"in\",\"the\",\"is\",\"and\",\"this\",\"south\",\"hotel\"])\n",
        "\n",
        "X_traincv = cv1.fit_transform(X_train)\n",
        "X_testcv = cv1.transform(X_test)\n",
        "print(X_testcv)"
      ],
      "execution_count": 0,
      "outputs": [
        {
          "output_type": "stream",
          "text": [
            "  (0, 34)\t1\n",
            "  (0, 77)\t1\n",
            "  (0, 81)\t2\n",
            "  (0, 111)\t1\n",
            "  (0, 113)\t1\n",
            "  (0, 142)\t1\n",
            "  (0, 166)\t1\n",
            "  (0, 169)\t1\n",
            "  (0, 184)\t1\n",
            "  (0, 204)\t1\n",
            "  (0, 224)\t1\n",
            "  (0, 282)\t1\n",
            "  (0, 294)\t1\n",
            "  (0, 355)\t1\n",
            "  (0, 378)\t1\n",
            "  (0, 423)\t1\n",
            "  (0, 431)\t1\n",
            "  (0, 433)\t1\n",
            "  (0, 453)\t1\n",
            "  (0, 460)\t1\n",
            "  (0, 480)\t1\n",
            "  (0, 489)\t1\n",
            "  (0, 510)\t1\n",
            "  (0, 570)\t1\n",
            "  (0, 581)\t1\n",
            "  :\t:\n",
            "  (319, 975)\t1\n",
            "  (319, 986)\t1\n",
            "  (319, 1030)\t2\n",
            "  (319, 1032)\t1\n",
            "  (319, 1034)\t1\n",
            "  (319, 1046)\t1\n",
            "  (319, 1050)\t4\n",
            "  (319, 1052)\t1\n",
            "  (319, 1064)\t1\n",
            "  (319, 1068)\t2\n",
            "  (319, 1072)\t2\n",
            "  (319, 1079)\t2\n",
            "  (319, 1095)\t1\n",
            "  (319, 1106)\t1\n",
            "  (319, 1116)\t1\n",
            "  (319, 1124)\t1\n",
            "  (319, 1129)\t1\n",
            "  (319, 1137)\t1\n",
            "  (319, 1151)\t1\n",
            "  (319, 1163)\t1\n",
            "  (319, 1164)\t1\n",
            "  (319, 1169)\t1\n",
            "  (319, 1172)\t2\n",
            "  (319, 1185)\t1\n",
            "  (319, 1194)\t1\n"
          ],
          "name": "stdout"
        }
      ]
    },
    {
      "cell_type": "code",
      "metadata": {
        "id": "3DAyt_-w_t0I",
        "colab_type": "code",
        "outputId": "2b610b63-1b87-4d15-d8b4-82309bd94902",
        "colab": {
          "base_uri": "https://localhost:8080/",
          "height": 34
        }
      },
      "source": [
        "nbayes = MultinomialNB()\n",
        "\n",
        "nbayes.fit(X_traincv, y_train)"
      ],
      "execution_count": 0,
      "outputs": [
        {
          "output_type": "execute_result",
          "data": {
            "text/plain": [
              "MultinomialNB(alpha=1.0, class_prior=None, fit_prior=True)"
            ]
          },
          "metadata": {
            "tags": []
          },
          "execution_count": 34
        }
      ]
    },
    {
      "cell_type": "code",
      "metadata": {
        "id": "cMHY6o_x_2uV",
        "colab_type": "code",
        "colab": {}
      },
      "source": [
        "y_predictions = nbayes.predict(X_testcv)"
      ],
      "execution_count": 0,
      "outputs": []
    },
    {
      "cell_type": "code",
      "metadata": {
        "id": "p8WW9xzd_8cT",
        "colab_type": "code",
        "outputId": "b9bd31f2-0195-4c00-c423-415adf8bdd4e",
        "colab": {
          "base_uri": "https://localhost:8080/",
          "height": 402
        }
      },
      "source": [
        "y_result = list(y_predictions)\n",
        "\n",
        "yp=[\"True\" if a==1 else \"Deceptive\" for a in y_result]\n",
        "X_testlist = list(X_test)\n",
        "\n",
        "output_fm = pd.DataFrame({'Review':X_testlist ,'True(1)/Deceptive(0)':yp})\n",
        "output_fm"
      ],
      "execution_count": 0,
      "outputs": [
        {
          "output_type": "execute_result",
          "data": {
            "text/html": [
              "<div>\n",
              "<style scoped>\n",
              "    .dataframe tbody tr th:only-of-type {\n",
              "        vertical-align: middle;\n",
              "    }\n",
              "\n",
              "    .dataframe tbody tr th {\n",
              "        vertical-align: top;\n",
              "    }\n",
              "\n",
              "    .dataframe thead th {\n",
              "        text-align: right;\n",
              "    }\n",
              "</style>\n",
              "<table border=\"1\" class=\"dataframe\">\n",
              "  <thead>\n",
              "    <tr style=\"text-align: right;\">\n",
              "      <th></th>\n",
              "      <th>Review</th>\n",
              "      <th>True(1)/Deceptive(0)</th>\n",
              "    </tr>\n",
              "  </thead>\n",
              "  <tbody>\n",
              "    <tr>\n",
              "      <th>0</th>\n",
              "      <td>We recently completed our second stay at the F...</td>\n",
              "      <td>True</td>\n",
              "    </tr>\n",
              "    <tr>\n",
              "      <th>1</th>\n",
              "      <td>Hyatt Regency Chicago seemed like a nice place...</td>\n",
              "      <td>Deceptive</td>\n",
              "    </tr>\n",
              "    <tr>\n",
              "      <th>2</th>\n",
              "      <td>The service from check-in to checkout was exce...</td>\n",
              "      <td>True</td>\n",
              "    </tr>\n",
              "    <tr>\n",
              "      <th>3</th>\n",
              "      <td>Not a good start when the front desk isn't wil...</td>\n",
              "      <td>True</td>\n",
              "    </tr>\n",
              "    <tr>\n",
              "      <th>4</th>\n",
              "      <td>Luxury and comfort combine to give a wonderful...</td>\n",
              "      <td>Deceptive</td>\n",
              "    </tr>\n",
              "    <tr>\n",
              "      <th>...</th>\n",
              "      <td>...</td>\n",
              "      <td>...</td>\n",
              "    </tr>\n",
              "    <tr>\n",
              "      <th>315</th>\n",
              "      <td>On our visit to Chicago, we chose the Hyatt du...</td>\n",
              "      <td>True</td>\n",
              "    </tr>\n",
              "    <tr>\n",
              "      <th>316</th>\n",
              "      <td>The atmosphere at the Talbott Hotel is very we...</td>\n",
              "      <td>Deceptive</td>\n",
              "    </tr>\n",
              "    <tr>\n",
              "      <th>317</th>\n",
              "      <td>It is always interesting going to a high quali...</td>\n",
              "      <td>True</td>\n",
              "    </tr>\n",
              "    <tr>\n",
              "      <th>318</th>\n",
              "      <td>This hotel was incredible! Haven't had a bette...</td>\n",
              "      <td>Deceptive</td>\n",
              "    </tr>\n",
              "    <tr>\n",
              "      <th>319</th>\n",
              "      <td>I read the reviews on Trip Advisor for this pr...</td>\n",
              "      <td>True</td>\n",
              "    </tr>\n",
              "  </tbody>\n",
              "</table>\n",
              "<p>320 rows × 2 columns</p>\n",
              "</div>"
            ],
            "text/plain": [
              "                                                Review True(1)/Deceptive(0)\n",
              "0    We recently completed our second stay at the F...                 True\n",
              "1    Hyatt Regency Chicago seemed like a nice place...            Deceptive\n",
              "2    The service from check-in to checkout was exce...                 True\n",
              "3    Not a good start when the front desk isn't wil...                 True\n",
              "4    Luxury and comfort combine to give a wonderful...            Deceptive\n",
              "..                                                 ...                  ...\n",
              "315  On our visit to Chicago, we chose the Hyatt du...                 True\n",
              "316  The atmosphere at the Talbott Hotel is very we...            Deceptive\n",
              "317  It is always interesting going to a high quali...                 True\n",
              "318  This hotel was incredible! Haven't had a bette...            Deceptive\n",
              "319  I read the reviews on Trip Advisor for this pr...                 True\n",
              "\n",
              "[320 rows x 2 columns]"
            ]
          },
          "metadata": {
            "tags": []
          },
          "execution_count": 36
        }
      ]
    },
    {
      "cell_type": "code",
      "metadata": {
        "id": "hsfxbDauAAUr",
        "colab_type": "code",
        "outputId": "dc3fd5ce-6ae8-446e-f0ef-78da02c35531",
        "colab": {
          "base_uri": "https://localhost:8080/",
          "height": 84
        }
      },
      "source": [
        "print(\"Accuracy % :\",metrics.accuracy_score(y_test, y_predictions)*100)\n",
        "print(\"Precision Score: \", precision_score(y_test, y_predictions, average='micro'))\n",
        "print(\"Recall Score: \",recall_score(y_test, y_predictions, average='micro') )\n",
        "print(\"F1 Score: \",f1_score(y_test, y_predictions, average='micro') )"
      ],
      "execution_count": 0,
      "outputs": [
        {
          "output_type": "stream",
          "text": [
            "Accuracy % : 88.4375\n",
            "Precision Score:  0.884375\n",
            "Recall Score:  0.884375\n",
            "F1 Score:  0.8843749999999999\n"
          ],
          "name": "stdout"
        }
      ]
    },
    {
      "cell_type": "code",
      "metadata": {
        "id": "g2uuoPMbBM3g",
        "colab_type": "code",
        "outputId": "a7b6f989-9c64-4584-fc93-42b80f4fa9d6",
        "colab": {
          "base_uri": "https://localhost:8080/",
          "height": 84
        }
      },
      "source": [
        "from sklearn.svm import SVC\n",
        "clf = SVC(gamma='auto')\n",
        "\n",
        "clf.fit(X_traincv, y_train)"
      ],
      "execution_count": 0,
      "outputs": [
        {
          "output_type": "execute_result",
          "data": {
            "text/plain": [
              "SVC(C=1.0, break_ties=False, cache_size=200, class_weight=None, coef0=0.0,\n",
              "    decision_function_shape='ovr', degree=3, gamma='auto', kernel='rbf',\n",
              "    max_iter=-1, probability=False, random_state=None, shrinking=True,\n",
              "    tol=0.001, verbose=False)"
            ]
          },
          "metadata": {
            "tags": []
          },
          "execution_count": 8
        }
      ]
    },
    {
      "cell_type": "code",
      "metadata": {
        "id": "WV-EmWo5Bxrn",
        "colab_type": "code",
        "colab": {}
      },
      "source": [
        "y_predictions = clf.predict(X_testcv)"
      ],
      "execution_count": 0,
      "outputs": []
    },
    {
      "cell_type": "code",
      "metadata": {
        "id": "U5JFBhw_B4R1",
        "colab_type": "code",
        "outputId": "d3ea920e-8ef8-4bbc-b60e-60e3859b59de",
        "colab": {
          "base_uri": "https://localhost:8080/",
          "height": 402
        }
      },
      "source": [
        "y_result = list(y_predictions)\n",
        "\n",
        "yp=[\"True\" if a==1 else \"Deceptive\" for a in y_result]\n",
        "X_testlist = list(X_test)\n",
        "\n",
        "output_fm = pd.DataFrame({'Review':X_testlist ,'True(1)/Deceptive(0)':yp})\n",
        "output_fm"
      ],
      "execution_count": 0,
      "outputs": [
        {
          "output_type": "execute_result",
          "data": {
            "text/html": [
              "<div>\n",
              "<style scoped>\n",
              "    .dataframe tbody tr th:only-of-type {\n",
              "        vertical-align: middle;\n",
              "    }\n",
              "\n",
              "    .dataframe tbody tr th {\n",
              "        vertical-align: top;\n",
              "    }\n",
              "\n",
              "    .dataframe thead th {\n",
              "        text-align: right;\n",
              "    }\n",
              "</style>\n",
              "<table border=\"1\" class=\"dataframe\">\n",
              "  <thead>\n",
              "    <tr style=\"text-align: right;\">\n",
              "      <th></th>\n",
              "      <th>Review</th>\n",
              "      <th>True(1)/Deceptive(0)</th>\n",
              "    </tr>\n",
              "  </thead>\n",
              "  <tbody>\n",
              "    <tr>\n",
              "      <th>0</th>\n",
              "      <td>We stayed in the Amalfi in July 2010, 4th of J...</td>\n",
              "      <td>Deceptive</td>\n",
              "    </tr>\n",
              "    <tr>\n",
              "      <th>1</th>\n",
              "      <td>Stays here while on a business trip in Chicago...</td>\n",
              "      <td>Deceptive</td>\n",
              "    </tr>\n",
              "    <tr>\n",
              "      <th>2</th>\n",
              "      <td>The reviews we read were a bit mixed, but I th...</td>\n",
              "      <td>True</td>\n",
              "    </tr>\n",
              "    <tr>\n",
              "      <th>3</th>\n",
              "      <td>A bunch of us got together and we had a great ...</td>\n",
              "      <td>True</td>\n",
              "    </tr>\n",
              "    <tr>\n",
              "      <th>4</th>\n",
              "      <td>If you are ever going to visit Chicago and nee...</td>\n",
              "      <td>Deceptive</td>\n",
              "    </tr>\n",
              "    <tr>\n",
              "      <th>...</th>\n",
              "      <td>...</td>\n",
              "      <td>...</td>\n",
              "    </tr>\n",
              "    <tr>\n",
              "      <th>315</th>\n",
              "      <td>I stayed at the Millennium Knickerbocker Hotel...</td>\n",
              "      <td>True</td>\n",
              "    </tr>\n",
              "    <tr>\n",
              "      <th>316</th>\n",
              "      <td>My stay at the Hotel Monaco Chicago was amazin...</td>\n",
              "      <td>Deceptive</td>\n",
              "    </tr>\n",
              "    <tr>\n",
              "      <th>317</th>\n",
              "      <td>Very beautiful hotel with a wonderful view. Th...</td>\n",
              "      <td>True</td>\n",
              "    </tr>\n",
              "    <tr>\n",
              "      <th>318</th>\n",
              "      <td>This hotel was wonderful. My room was clean an...</td>\n",
              "      <td>Deceptive</td>\n",
              "    </tr>\n",
              "    <tr>\n",
              "      <th>319</th>\n",
              "      <td>i stayed at this hotel for a week with my fami...</td>\n",
              "      <td>True</td>\n",
              "    </tr>\n",
              "  </tbody>\n",
              "</table>\n",
              "<p>320 rows × 2 columns</p>\n",
              "</div>"
            ],
            "text/plain": [
              "                                                Review True(1)/Deceptive(0)\n",
              "0    We stayed in the Amalfi in July 2010, 4th of J...            Deceptive\n",
              "1    Stays here while on a business trip in Chicago...            Deceptive\n",
              "2    The reviews we read were a bit mixed, but I th...                 True\n",
              "3    A bunch of us got together and we had a great ...                 True\n",
              "4    If you are ever going to visit Chicago and nee...            Deceptive\n",
              "..                                                 ...                  ...\n",
              "315  I stayed at the Millennium Knickerbocker Hotel...                 True\n",
              "316  My stay at the Hotel Monaco Chicago was amazin...            Deceptive\n",
              "317  Very beautiful hotel with a wonderful view. Th...                 True\n",
              "318  This hotel was wonderful. My room was clean an...            Deceptive\n",
              "319  i stayed at this hotel for a week with my fami...                 True\n",
              "\n",
              "[320 rows x 2 columns]"
            ]
          },
          "metadata": {
            "tags": []
          },
          "execution_count": 39
        }
      ]
    },
    {
      "cell_type": "code",
      "metadata": {
        "id": "s88Rv4hqB8DO",
        "colab_type": "code",
        "outputId": "abab8b37-379f-4d42-d51d-1d07fc739cd8",
        "colab": {
          "base_uri": "https://localhost:8080/",
          "height": 84
        }
      },
      "source": [
        "print(\"Accuracy % :\",metrics.accuracy_score(y_test, y_predictions)*100)\n",
        "print(\"Precision Score: \", precision_score(y_test, y_predictions, average='micro'))\n",
        "print(\"Recall Score: \",recall_score(y_test, y_predictions, average='micro') )\n",
        "print(\"F1 Score: \",f1_score(y_test, y_predictions, average='micro') )"
      ],
      "execution_count": 0,
      "outputs": [
        {
          "output_type": "stream",
          "text": [
            "Accuracy % : 80.3125\n",
            "Precision Score:  0.803125\n",
            "Recall Score:  0.803125\n",
            "F1 Score:  0.803125\n"
          ],
          "name": "stdout"
        }
      ]
    },
    {
      "cell_type": "code",
      "metadata": {
        "id": "ZboBErFwPTr9",
        "colab_type": "code",
        "outputId": "994c88e6-cefa-4659-c8c6-87b1431b15d3",
        "colab": {
          "base_uri": "https://localhost:8080/",
          "height": 202
        }
      },
      "source": [
        "X_trainS, X_testS, y_trainS, y_testS = train_test_split(data_x, data_y, test_size=0.2)\n",
        "cv1 =  CountVectorizer(max_df=0.50,min_df=0.01,stop_words=[\"all\",\"in\",\"the\",\"is\",\"and\",\"this\",\"south\",\"hotel\"])\n",
        "\n",
        "X_traincv = cv1.fit_transform(X_trainS)\n",
        "X_testcv=cv1.transform(X_testS)\n",
        "nbayes = MultinomialNB()\n",
        "nbayes.fit(X_traincv, y_trainS)\n",
        "\n",
        "while 1==1:\n",
        " \n",
        "\n",
        "    y_CurrPredictions = nbayes.predict(X_testcv)\n",
        "    y_CurrResult = list(y_CurrPredictions)\n",
        "    yc=y_CurrResult.copy()\n",
        "    yc.sort()\n",
        "    yt=list(y_testS)\n",
        "    ytc=yt.copy()\n",
        "    ytc.sort()\n",
        "\n",
        "    if ytc==yc:\n",
        "        f=1;\n",
        "        #print('bye')\n",
        "        break;\n",
        "    else:\n",
        "        odf=pd.DataFrame({'X':X_trainS,'Y':y_trainS})\n",
        "        od=pd.DataFrame({'X':X_testS,'Y':y_testS})\n",
        "        df_all_rows = pd.concat([odf, od])\n",
        "        data_x=df_all_rows['X']\n",
        "        data_y=df_all_rows['Y']\n",
        "        X_trainS, X_testS, y_trainS, y_testS = train_test_split(data_x, data_y, test_size=0.25)\n",
        "        cv1 =  CountVectorizer(max_df=0.50,min_df=0.01,stop_words=[\"all\",\"in\",\"the\",\"is\",\"and\",\"this\",\"south\",\"hotel\"])\n",
        "\n",
        "        X_traincv = cv1.fit_transform(X_trainS)\n",
        "        X_testcv=cv1.transform(X_testS)\n",
        "        nbayes = MultinomialNB()\n",
        "        nbayes.fit(X_traincv, y_trainS)\n",
        "        print('hi')\n",
        "    \n",
        "\n",
        "\n"
      ],
      "execution_count": 0,
      "outputs": [
        {
          "output_type": "stream",
          "text": [
            "hi\n",
            "hi\n",
            "hi\n",
            "hi\n",
            "hi\n",
            "hi\n",
            "hi\n",
            "hi\n",
            "hi\n",
            "hi\n",
            "hi\n"
          ],
          "name": "stdout"
        }
      ]
    },
    {
      "cell_type": "code",
      "metadata": {
        "id": "759nNfVJBSZ9",
        "colab_type": "code",
        "outputId": "a8acc778-887e-485b-e2fa-12ad6a6b11c6",
        "colab": {
          "base_uri": "https://localhost:8080/",
          "height": 84
        }
      },
      "source": [
        "\n",
        "print(\"Accuracy % :\",metrics.accuracy_score(y_testS, y_CurrPredictions)*100)\n",
        "print(\"Precision Score: \", precision_score(y_testS,  y_CurrPredictions, average='micro'))\n",
        "print(\"Recall Score: \",recall_score(y_testS,y_CurrPredictions, average='micro') )\n",
        "print(\"F1 Score: \",f1_score(y_testS,y_CurrPredictions, average='micro') )\n",
        "  "
      ],
      "execution_count": 0,
      "outputs": [
        {
          "output_type": "stream",
          "text": [
            "Accuracy % : 87.0\n",
            "Precision Score:  0.87\n",
            "Recall Score:  0.87\n",
            "F1 Score:  0.87\n"
          ],
          "name": "stdout"
        }
      ]
    },
    {
      "cell_type": "code",
      "metadata": {
        "id": "GnK9NH7TzkWY",
        "colab_type": "code",
        "outputId": "974f903a-82d2-470e-f6c7-24afd5a67ce5",
        "colab": {
          "base_uri": "https://localhost:8080/",
          "height": 1000
        }
      },
      "source": [
        "X_trainS, X_testS, y_trainS, y_testS = train_test_split(data_x, data_y, test_size=0.2)\n",
        "cv1 =  CountVectorizer(max_df=0.40,min_df=0.01,stop_words=[\"all\",\"in\",\"the\",\"is\",\"and\",\"this\",\"south\",\"hotel\"])\n",
        "\n",
        "X_traincv = cv1.fit_transform(X_trainS)\n",
        "X_testcv=cv1.transform(X_testS)\n",
        "clf = SVC(gamma='auto')\n",
        "\n",
        "clf.fit(X_traincv, y_trainS)\n",
        "\n",
        "while 1==1:\n",
        " \n",
        "\n",
        "    y_CurrPredictions =  clf.predict(X_testcv)\n",
        "    y_CurrResult = list(y_CurrPredictions)\n",
        "    yc=y_CurrResult.copy()\n",
        "    yc.sort()\n",
        "    yt=list(y_testS)\n",
        "    ytc=yt.copy()\n",
        "    ytc.sort()\n",
        "\n",
        "    if ytc==yc:\n",
        "        f=1;\n",
        "        print('bye')\n",
        "        break;\n",
        "    else:\n",
        "        odf=pd.DataFrame({'X':X_trainS,'Y':y_trainS})\n",
        "        od=pd.DataFrame({'X':X_testS,'Y':y_testS})\n",
        "        df_all_rows = pd.concat([odf, od])\n",
        "        data_x=df_all_rows['X']\n",
        "        data_y=df_all_rows['Y']\n",
        "        X_trainS, X_testS, y_trainS, y_testS = train_test_split(data_x, data_y, test_size=0.25)\n",
        "        cv1 =  CountVectorizer(max_df=0.50,min_df=0.01,stop_words=[\"all\",\"in\",\"the\",\"is\",\"and\",\"this\",\"south\",\"hotel\"])\n",
        "\n",
        "        X_traincv = cv1.fit_transform(X_trainS)\n",
        "        X_testcv=cv1.transform(X_testS)\n",
        "        clf = SVC(gamma='auto')\n",
        "\n",
        "        clf.fit(X_traincv, y_trainS)\n",
        "        print('hi')"
      ],
      "execution_count": 0,
      "outputs": [
        {
          "output_type": "stream",
          "text": [
            "hi\n",
            "hi\n",
            "hi\n",
            "hi\n",
            "hi\n",
            "hi\n",
            "hi\n",
            "hi\n",
            "hi\n",
            "hi\n",
            "hi\n",
            "hi\n",
            "hi\n",
            "hi\n",
            "hi\n",
            "hi\n",
            "hi\n",
            "hi\n",
            "hi\n",
            "hi\n",
            "hi\n",
            "hi\n",
            "hi\n",
            "hi\n",
            "hi\n",
            "hi\n",
            "hi\n",
            "hi\n",
            "hi\n",
            "hi\n",
            "hi\n",
            "hi\n",
            "hi\n",
            "hi\n",
            "hi\n",
            "hi\n",
            "hi\n",
            "hi\n",
            "hi\n",
            "hi\n",
            "hi\n",
            "hi\n",
            "hi\n",
            "hi\n",
            "hi\n",
            "hi\n",
            "hi\n",
            "hi\n",
            "hi\n",
            "hi\n",
            "hi\n",
            "hi\n",
            "hi\n",
            "hi\n",
            "hi\n",
            "hi\n",
            "hi\n",
            "hi\n",
            "hi\n",
            "hi\n",
            "hi\n",
            "hi\n",
            "hi\n",
            "hi\n",
            "hi\n",
            "hi\n",
            "hi\n",
            "hi\n",
            "hi\n",
            "hi\n",
            "hi\n",
            "hi\n",
            "hi\n",
            "hi\n",
            "hi\n",
            "hi\n",
            "hi\n",
            "hi\n",
            "hi\n",
            "hi\n",
            "hi\n",
            "hi\n",
            "hi\n",
            "hi\n",
            "hi\n",
            "hi\n",
            "hi\n",
            "hi\n",
            "hi\n",
            "hi\n",
            "hi\n",
            "hi\n",
            "hi\n",
            "hi\n",
            "hi\n",
            "hi\n",
            "hi\n",
            "hi\n",
            "hi\n",
            "hi\n",
            "hi\n",
            "hi\n",
            "hi\n",
            "hi\n",
            "hi\n",
            "hi\n",
            "hi\n",
            "hi\n",
            "hi\n",
            "hi\n",
            "hi\n",
            "hi\n",
            "hi\n",
            "hi\n",
            "hi\n",
            "hi\n",
            "hi\n",
            "hi\n",
            "hi\n",
            "hi\n",
            "hi\n",
            "hi\n",
            "hi\n",
            "hi\n",
            "hi\n",
            "hi\n",
            "hi\n",
            "hi\n",
            "hi\n",
            "hi\n",
            "hi\n",
            "hi\n",
            "hi\n",
            "hi\n",
            "hi\n",
            "hi\n",
            "hi\n",
            "hi\n",
            "hi\n",
            "hi\n",
            "hi\n",
            "hi\n",
            "hi\n",
            "hi\n",
            "hi\n",
            "hi\n",
            "hi\n",
            "hi\n",
            "hi\n",
            "hi\n",
            "hi\n",
            "hi\n",
            "hi\n",
            "hi\n",
            "hi\n",
            "hi\n",
            "hi\n",
            "hi\n",
            "hi\n",
            "hi\n",
            "hi\n",
            "hi\n",
            "hi\n",
            "hi\n",
            "hi\n",
            "hi\n",
            "hi\n",
            "hi\n",
            "hi\n",
            "hi\n",
            "hi\n",
            "hi\n",
            "hi\n",
            "hi\n",
            "hi\n",
            "hi\n",
            "hi\n",
            "hi\n",
            "hi\n",
            "hi\n",
            "hi\n",
            "hi\n",
            "hi\n",
            "hi\n",
            "hi\n",
            "hi\n",
            "hi\n",
            "hi\n",
            "hi\n",
            "hi\n",
            "hi\n",
            "hi\n",
            "hi\n",
            "hi\n",
            "hi\n",
            "hi\n",
            "hi\n",
            "hi\n",
            "hi\n",
            "hi\n",
            "hi\n",
            "hi\n",
            "hi\n",
            "hi\n",
            "hi\n",
            "hi\n",
            "hi\n",
            "hi\n",
            "hi\n",
            "hi\n",
            "hi\n",
            "hi\n",
            "hi\n",
            "hi\n",
            "hi\n",
            "hi\n",
            "hi\n",
            "hi\n",
            "hi\n",
            "hi\n",
            "hi\n",
            "hi\n",
            "hi\n",
            "hi\n",
            "hi\n",
            "hi\n",
            "hi\n",
            "hi\n",
            "hi\n",
            "hi\n",
            "hi\n",
            "hi\n",
            "hi\n",
            "hi\n",
            "hi\n",
            "hi\n",
            "hi\n",
            "hi\n",
            "hi\n",
            "hi\n",
            "hi\n",
            "hi\n",
            "hi\n",
            "hi\n",
            "hi\n",
            "hi\n",
            "hi\n",
            "hi\n",
            "hi\n",
            "hi\n",
            "hi\n",
            "hi\n",
            "hi\n",
            "hi\n",
            "hi\n",
            "hi\n",
            "hi\n",
            "hi\n",
            "hi\n",
            "hi\n",
            "hi\n",
            "hi\n",
            "hi\n",
            "hi\n",
            "hi\n",
            "hi\n",
            "hi\n",
            "hi\n",
            "hi\n",
            "hi\n",
            "hi\n",
            "hi\n",
            "hi\n",
            "hi\n",
            "hi\n",
            "hi\n",
            "hi\n",
            "hi\n",
            "hi\n",
            "hi\n",
            "hi\n",
            "hi\n",
            "hi\n",
            "hi\n",
            "hi\n",
            "hi\n",
            "hi\n",
            "hi\n",
            "hi\n",
            "hi\n",
            "hi\n",
            "hi\n",
            "hi\n",
            "hi\n",
            "hi\n",
            "hi\n",
            "hi\n",
            "hi\n",
            "hi\n",
            "hi\n",
            "hi\n",
            "hi\n",
            "hi\n",
            "hi\n",
            "hi\n",
            "hi\n",
            "hi\n",
            "hi\n",
            "hi\n",
            "hi\n",
            "hi\n",
            "hi\n",
            "hi\n",
            "hi\n",
            "hi\n",
            "hi\n",
            "hi\n",
            "hi\n",
            "hi\n",
            "hi\n",
            "hi\n",
            "hi\n",
            "hi\n",
            "hi\n",
            "hi\n",
            "hi\n",
            "hi\n",
            "hi\n",
            "hi\n",
            "hi\n",
            "hi\n",
            "hi\n",
            "hi\n",
            "hi\n",
            "hi\n",
            "hi\n",
            "hi\n",
            "hi\n",
            "hi\n",
            "hi\n",
            "hi\n",
            "hi\n",
            "hi\n",
            "hi\n",
            "hi\n",
            "hi\n",
            "hi\n",
            "hi\n",
            "hi\n",
            "hi\n",
            "hi\n",
            "hi\n",
            "hi\n",
            "hi\n",
            "hi\n",
            "hi\n",
            "hi\n",
            "hi\n",
            "hi\n",
            "hi\n",
            "hi\n",
            "hi\n",
            "hi\n",
            "hi\n",
            "hi\n",
            "hi\n",
            "hi\n",
            "hi\n",
            "hi\n",
            "hi\n",
            "hi\n",
            "hi\n",
            "hi\n",
            "hi\n",
            "hi\n",
            "hi\n",
            "hi\n",
            "hi\n",
            "hi\n",
            "hi\n",
            "hi\n",
            "hi\n",
            "hi\n",
            "hi\n",
            "hi\n",
            "hi\n",
            "hi\n",
            "hi\n",
            "hi\n",
            "hi\n",
            "hi\n",
            "hi\n",
            "hi\n",
            "hi\n",
            "hi\n",
            "hi\n",
            "hi\n",
            "hi\n",
            "hi\n",
            "hi\n",
            "hi\n",
            "hi\n",
            "hi\n",
            "hi\n",
            "hi\n",
            "hi\n",
            "hi\n",
            "hi\n",
            "hi\n",
            "hi\n",
            "hi\n",
            "hi\n",
            "hi\n",
            "hi\n",
            "hi\n",
            "hi\n",
            "hi\n",
            "hi\n",
            "hi\n",
            "hi\n",
            "hi\n",
            "hi\n",
            "hi\n",
            "hi\n",
            "hi\n",
            "hi\n",
            "hi\n",
            "hi\n",
            "hi\n",
            "hi\n",
            "hi\n",
            "hi\n",
            "hi\n",
            "hi\n",
            "hi\n",
            "hi\n",
            "hi\n",
            "hi\n",
            "hi\n",
            "hi\n",
            "hi\n",
            "hi\n",
            "hi\n",
            "hi\n",
            "hi\n",
            "hi\n",
            "hi\n",
            "hi\n",
            "hi\n",
            "hi\n",
            "hi\n",
            "hi\n",
            "hi\n",
            "hi\n",
            "hi\n",
            "hi\n",
            "hi\n",
            "hi\n",
            "hi\n",
            "hi\n",
            "hi\n",
            "hi\n",
            "hi\n",
            "hi\n",
            "bye\n"
          ],
          "name": "stdout"
        }
      ]
    },
    {
      "cell_type": "code",
      "metadata": {
        "id": "Eq50QugLzvIw",
        "colab_type": "code",
        "outputId": "ba68182a-1000-4e66-8460-795b830b9f8a",
        "colab": {
          "base_uri": "https://localhost:8080/",
          "height": 84
        }
      },
      "source": [
        "print(\"Accuracy % :\",metrics.accuracy_score(y_testS, y_CurrPredictions)*100)\n",
        "print(\"Precision Score: \", precision_score(y_testS,  y_CurrPredictions, average='micro'))\n",
        "print(\"Recall Score: \",recall_score(y_testS,y_CurrPredictions, average='micro') )\n",
        "print(\"F1 Score: \",f1_score(y_testS,y_CurrPredictions, average='micro') )"
      ],
      "execution_count": 0,
      "outputs": [
        {
          "output_type": "stream",
          "text": [
            "Accuracy % : 80.5\n",
            "Precision Score:  0.805\n",
            "Recall Score:  0.805\n",
            "F1 Score:  0.805\n"
          ],
          "name": "stdout"
        }
      ]
    },
    {
      "cell_type": "code",
      "metadata": {
        "id": "3LgrGk64jkac",
        "colab_type": "code",
        "outputId": "afa397d3-b2a7-40fa-f20f-b803c8bbae1b",
        "colab": {
          "base_uri": "https://localhost:8080/",
          "height": 134
        }
      },
      "source": [
        "pip install matplotlib"
      ],
      "execution_count": 0,
      "outputs": [
        {
          "output_type": "stream",
          "text": [
            "Requirement already satisfied: matplotlib in /usr/local/lib/python3.6/dist-packages (3.2.1)\n",
            "Requirement already satisfied: numpy>=1.11 in /usr/local/lib/python3.6/dist-packages (from matplotlib) (1.18.3)\n",
            "Requirement already satisfied: python-dateutil>=2.1 in /usr/local/lib/python3.6/dist-packages (from matplotlib) (2.8.1)\n",
            "Requirement already satisfied: kiwisolver>=1.0.1 in /usr/local/lib/python3.6/dist-packages (from matplotlib) (1.2.0)\n",
            "Requirement already satisfied: cycler>=0.10 in /usr/local/lib/python3.6/dist-packages (from matplotlib) (0.10.0)\n",
            "Requirement already satisfied: pyparsing!=2.0.4,!=2.1.2,!=2.1.6,>=2.0.1 in /usr/local/lib/python3.6/dist-packages (from matplotlib) (2.4.7)\n",
            "Requirement already satisfied: six>=1.5 in /usr/local/lib/python3.6/dist-packages (from python-dateutil>=2.1->matplotlib) (1.12.0)\n"
          ],
          "name": "stdout"
        }
      ]
    },
    {
      "cell_type": "code",
      "metadata": {
        "id": "xW5ve2xurZqd",
        "colab_type": "code",
        "outputId": "b2ba5ae0-3985-48b5-f0f4-a5a70e322d5b",
        "colab": {
          "base_uri": "https://localhost:8080/",
          "height": 391
        }
      },
      "source": [
        "import matplotlib\n",
        "import matplotlib.pyplot as plt\n",
        "import numpy as np\n",
        "\n",
        "\n",
        "labels = ['Semi supervised Naive Bayes', 'Semi supervised SVM', 'Supervised Naive Bayes', 'Supervised SVM']\n",
        "paper_work = [84.87,80.47,86.21,82.04]\n",
        "proposed_work = [87.50,82.00,86.50,81.50]\n",
        "\n",
        "x = np.arange(len(labels))  # the label locations\n",
        "width = 0.35  # the width of the bars\n",
        "\n",
        "fig, ax = plt.subplots()\n",
        "rects1 = ax.bar(x - width/2, paper_work, width, label='paper work')\n",
        "rects2 = ax.bar(x + width/2, proposed_work, width, label='proposed work')\n",
        "\n",
        "# Add some text for labels, title and custom x-axis tick labels, etc.\n",
        "ax.set_ylabel('Accuracy')\n",
        "ax.set_title('ratio 75:25')\n",
        "ax.set_xticks(x)\n",
        "ax.set_xticklabels(labels)\n",
        "ax.legend()\n",
        "\n",
        "\n",
        "def autolabel(rects):\n",
        "    \"\"\"Attach a text label above each bar in *rects*, displaying its height.\"\"\"\n",
        "    for rect in rects:\n",
        "        height = rect.get_height()\n",
        "        ax.annotate('{}'.format(height),\n",
        "                    xy=(rect.get_x() + rect.get_width() / 2, height),\n",
        "                    xytext=(0, 3),  # 3 points vertical offset\n",
        "                    textcoords=\"offset points\",\n",
        "                    ha='center', va='bottom')\n",
        "\n",
        "\n",
        "autolabel(rects1)\n",
        "autolabel(rects2)\n",
        "\n",
        "fig.tight_layout()\n",
        "plt.rcParams['figure.figsize']={10,6}\n",
        "plt.savefig('foo.png')\n",
        "plt.show()\n"
      ],
      "execution_count": 0,
      "outputs": [
        {
          "output_type": "display_data",
          "data": {
            "image/png": "[encoded data removed]",
            "text/plain": [
              "<Figure size 720x432 with 1 Axes>"
            ]
          },
          "metadata": {
            "tags": [],
            "needs_background": "light"
          }
        }
      ]
    },
    {
      "cell_type": "code",
      "metadata": {
        "id": "45CdQkE6wP47",
        "colab_type": "code",
        "outputId": "ac74cd40-ec90-4fde-ae4b-c4a03e36b2d5",
        "colab": {
          "base_uri": "https://localhost:8080/",
          "height": 391
        }
      },
      "source": [
        "import matplotlib\n",
        "import matplotlib.pyplot as plt\n",
        "import numpy as np\n",
        "\n",
        "\n",
        "labels = ['Semi supervised Naive Bayes', 'Semi supervised SVM', 'Supervised Naive Bayes', 'Supervised SVM']\n",
        "paper_work = [85.21,81.34,86.32,82.28]\n",
        "proposed_work = [86.25,79.37,88.43,80.00]\n",
        "\n",
        "x = np.arange(len(labels))  # the label locations\n",
        "width = 0.35  # the width of the bars\n",
        "\n",
        "fig, ax = plt.subplots()\n",
        "rects1 = ax.bar(x - width/2, paper_work, width, label='paper work')\n",
        "rects2 = ax.bar(x + width/2, proposed_work, width, label='proposed work')\n",
        "\n",
        "# Add some text for labels, title and custom x-axis tick labels, etc.\n",
        "ax.set_ylabel('Accuracy')\n",
        "ax.set_title('ratio 80:20')\n",
        "ax.set_xticks(x)\n",
        "ax.set_xticklabels(labels)\n",
        "ax.legend()\n",
        "\n",
        "\n",
        "def autolabel(rects):\n",
        "    \"\"\"Attach a text label above each bar in *rects*, displaying its height.\"\"\"\n",
        "    for rect in rects:\n",
        "        height = rect.get_height()\n",
        "        ax.annotate('{}'.format(height),\n",
        "                    xy=(rect.get_x() + rect.get_width() / 2, height),\n",
        "                    xytext=(0, 3),  # 3 points vertical offset\n",
        "                    textcoords=\"offset points\",\n",
        "                    ha='center', va='bottom')\n",
        "\n",
        "\n",
        "autolabel(rects1)\n",
        "autolabel(rects2)\n",
        "\n",
        "fig.tight_layout()\n",
        "plt.rcParams['figure.figsize']={10,6}\n",
        "plt.savefig('foo1.png')\n",
        "plt.show()\n"
      ],
      "execution_count": 0,
      "outputs": [
        {
          "output_type": "display_data",
          "data": {
            "image/png": "[encoded data removed]",
            "text/plain": [
              "<Figure size 720x432 with 1 Axes>"
            ]
          },
          "metadata": {
            "tags": [],
            "needs_background": "light"
          }
        }
      ]
    }
  ]
}